{
 "cells": [
  {
   "cell_type": "code",
   "execution_count": 3,
   "metadata": {},
   "outputs": [],
   "source": [
    "import random\n",
    "import operator\n",
    "import pandas\n",
    "import numpy\n",
    "import math"
   ]
  },
  {
   "cell_type": "code",
   "execution_count": 4,
   "metadata": {},
   "outputs": [],
   "source": [
    "class Mixer(object):\n",
    "\n",
    "    def __init__(self, mixerSize, cleaningTime):\n",
    "        self.size = mixerSize\n",
    "        self.cT = cleaningTime\n",
    "        self.name = \"Mixer\"\n",
    "    def __repr__(self):\n",
    "        return str(self.name)\n",
    "\n",
    "class StorageTank(object):\n",
    "\n",
    "    def __init__(self, TankName, tankSize):\n",
    "        self.name = TankName\n",
    "        self.size = tankSize\n",
    "    def __repr__(self):\n",
    "        return str(self.name)\n",
    "\n",
    "class Product(object):\n",
    "    machines = []\n",
    "    def __init__(self, pName, mixerNo, productionLine, netSpeed, cycleTime, PLcleaningtime, PPST, demand):\n",
    "        self.name = pName #Product name\n",
    "        self.MNO = mixerNo #Mixer number\n",
    "        self.line = productionLine #Production Line\n",
    "        self.speed = netSpeed #Net speed\n",
    "        self.cTime = cycleTime #Cycle time\n",
    "        self.PLCT = PLcleaningtime #Production line cleaing time\n",
    "        self.PPST = PPST #Number of products per storage tank\n",
    "        self.demand = demand #Demand  \n",
    "        self.btachno = 0      \n",
    "    def __repr__(self):\n",
    "        return str(self.name)  \n",
    "\n",
    "class ProductionLine(object):\n",
    "    def __init__(self, plName):\n",
    "        self.name = plName\n",
    "    def __repr__(self):\n",
    "        return str(self.name)\n",
    "\n",
    "mixer_2 = Mixer(2,1)\n",
    "\n",
    "storagetank_1 = StorageTank(\"StorageTank_1\", 2)\n",
    "storagetank_2 = StorageTank(\"StorageTank 2\", 2)\n",
    "storagetank_3 = StorageTank(\"StorageTank 3\", 2)\n",
    "storagetank_4 = StorageTank(\"StorageTank 4\", 2)\n",
    "storagetank_5 = StorageTank(\"StorageTank 5\", 2)\n",
    "storagetank_6 = StorageTank(\"StorageTank 6\", 2)\n",
    "storagetank_7 = StorageTank(\"StorageTank 7\", 2)\n",
    "storagetank_8 = StorageTank(\"StorageTank 8\", 2)\n",
    "\n",
    "Rollon_PL = ProductionLine(\"Rollon\")\n",
    "Tubes_PL = ProductionLine(\"Tubes\")\n",
    "Cream1_PL = ProductionLine(\"Cream_1\")\n",
    "Cream2_PL = ProductionLine(\"Cream_2\")"
   ]
  },
  {
   "cell_type": "code",
   "execution_count": 5,
   "metadata": {},
   "outputs": [],
   "source": [
    "product_1 = Product(\"Product_1\", mixer_2, Cream1_PL, 160, 2, 1,40000,80000)"
   ]
  },
  {
   "cell_type": "code",
   "execution_count": 6,
   "metadata": {},
   "outputs": [],
   "source": [
    "jobs = [product_1]"
   ]
  },
  {
   "cell_type": "code",
   "execution_count": 7,
   "metadata": {},
   "outputs": [],
   "source": [
    "class Chromosome(object):\n",
    "    def __init__(self, length):\n",
    "        self.genes=length\n",
    "        #Array of genes\n",
    "        self.geneArray = []\n",
    "\n",
    "    def initChromosom(self):\n",
    "        #(time-space slot) for each hour slot is list\n",
    "        for i in range(0,self.genes):\n",
    "            self.geneArray.append([])        \n",
    "    def __str__(self):\n",
    "        return str(self.geneArray)"
   ]
  },
  {
   "cell_type": "code",
   "execution_count": 12,
   "metadata": {},
   "outputs": [],
   "source": [
    "class Schedule(object):\n",
    "    def __init__(self, length):        \n",
    "        self.chromosome=Chromosome(length)\n",
    "        self.chromosome.initChromosom()\n",
    "        self.length=length\n",
    "\n",
    "    def initialize(self):\n",
    "        #For each product make list of operations = tuble of machine and product\n",
    "        O = []\n",
    "\n",
    "        for i in jobs:\n",
    "            O.append([(i.MNO, i), (storagetank_1,i), (i.line,i)])\n",
    "        for i in O:  \n",
    "            Mdur = i[0][1].cTime\n",
    "            STdur = 1\n",
    "            PLdur = i[2][1].PLCT\n",
    "\n",
    "            #Prodcution\n",
    "            SlotsperTank = int(math.ceil(i[2][1].PPST/(i[2][1].speed*60)))\n",
    "            Nbatch = int(math.ceil(i[2][1].demand/i[2][1].PPST))              \n",
    "            pos1 = random.randrange(0, self.chromosome.genes - Mdur)\n",
    "            pos2 = random.randrange(0, self.chromosome.genes - STdur)\n",
    "            pos3 = random.randrange(0, self.chromosome.genes - (PLdur + SlotsperTank))\n",
    "            #For number of batches needed to fulfill demand\n",
    "            for n in range(Nbatch):                                 \n",
    "                i[0][1].btachno = n\n",
    "                #assign mixing operation\n",
    "                for j in range(Mdur, 0, -1):\n",
    "                    print(i[0],i[0][1].btachno)\n",
    "#                     self.chromosome.geneArray[pos1 + j].append(i[0])                \n",
    "#                 #assign storing operation\n",
    "#                 for k in range(STdur, 0, -1):                \n",
    "#                         self.chromosome.geneArray[pos2 + k].append(i[1])                \n",
    "#                 #assin production and cleaining\n",
    "#                 for m in range(SlotsperTank + PLdur, 0, -1):                \n",
    "#                     self.chromosome.geneArray[pos3 + m].append(i[2])    \n",
    "                \n",
    "    def populateSchedule(self,hashtable):\n",
    "        for i in hashtable.keys():\n",
    "            temp=str(i)[-1]\n",
    "            temp2=int(temp)\n",
    "#             print(\"Key index:\",temp2,\"len of chromosome\", len(self.chromosome.geneArray))\n",
    "            self.chromosome.geneArray[(temp2)].append(hashtable[i])\n",
    "    def getGeneArray(self):\n",
    "        return self.chromosome.geneArray\n",
    "    def getlength(self):\n",
    "        return self.chromosome.genes\n",
    "    def __repr__(self):\n",
    "        return str(self.chromosome.geneArray)\n",
    "    def __len__(self):\n",
    "        return len(self.chromosome.geneArray)\n"
   ]
  },
  {
   "cell_type": "code",
   "execution_count": 13,
   "metadata": {},
   "outputs": [],
   "source": [
    "ss = Schedule(50)"
   ]
  },
  {
   "cell_type": "code",
   "execution_count": 14,
   "metadata": {},
   "outputs": [
    {
     "name": "stdout",
     "output_type": "stream",
     "text": [
      "(Mixer, Product_1) 0\n",
      "(Mixer, Product_1) 0\n",
      "(Mixer, Product_1) 1\n",
      "(Mixer, Product_1) 1\n"
     ]
    }
   ],
   "source": [
    "ss.initialize()"
   ]
  },
  {
   "cell_type": "code",
   "execution_count": null,
   "metadata": {},
   "outputs": [],
   "source": []
  }
 ],
 "metadata": {
  "kernelspec": {
   "display_name": "Python 3",
   "language": "python",
   "name": "python3"
  },
  "language_info": {
   "codemirror_mode": {
    "name": "ipython",
    "version": 3
   },
   "file_extension": ".py",
   "mimetype": "text/x-python",
   "name": "python",
   "nbconvert_exporter": "python",
   "pygments_lexer": "ipython3",
   "version": "3.7.3"
  }
 },
 "nbformat": 4,
 "nbformat_minor": 4
}
